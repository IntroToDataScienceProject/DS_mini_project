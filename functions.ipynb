{
 "cells": [
  {
   "cell_type": "markdown",
   "id": "c2c69306",
   "metadata": {},
   "source": [
    "## Functions:\n",
    "\n",
    "\n",
    "1. Create df with \"ID\" and \"Nimi\" columns\n",
    "\n",
    "arguments: path to csv\n",
    "\n",
    "return: pandas df\n",
    "\n",
    "\n",
    "2.  Predict function: get the predicted number of available bikes from the trained model, get the total capacity for that station\n",
    "\n",
    "arguments: path to the model in a pickle file: str (to be modiied later, talk to kirsikka), path to capacity csv file: str \n",
    "(also talk to kirsikka)\n",
    "\n",
    "return dict: {\"available\": num_available, \"empty\": num_capacity-num_available, \"capacity\": num_capacity}\n",
    "\n",
    "\n",
    "3. Pie Chart function: Create pie chart of availability for a given date, time and station using predicted data from model\n",
    "\n",
    "arguments: same as 2.\n",
    "\n",
    "return: pie chart graph\n",
    "--> easy way is to just call function 2 inside this function to get the number of available, empty and total directly\n",
    "\n",
    "\n",
    "4. Fetch nearby function: fetch 5 nearby stations and the distances from current station using coordinate data of current \n",
    "given station (could try using pd/geopandas df, return df.head(5))\n",
    "\n",
    "arguments: current station name\n",
    "\n",
    "return: list of tuples --> [(station1, distance1), ..., (station5, distance5)], or whatever else you see fit -- ASK kirsikka first! it needs to be something she can handle easily\n",
    "\n",
    "\n",
    "5. Plot Trends function: trends for the chosen day for the chosen station using predictions from the model (bonus!)\n",
    "\n",
    "arguments: date, model, station name\n",
    "\n",
    "returns: graph of trends"
   ]
  },
  {
   "cell_type": "markdown",
   "id": "c146b1e8",
   "metadata": {},
   "source": [
    "***\n",
    "\n",
    "define below:"
   ]
  },
  {
   "cell_type": "code",
   "execution_count": 1,
   "id": "d03568fc",
   "metadata": {},
   "outputs": [],
   "source": [
    "#importing and using the model:\n",
    "\n",
    "\n",
    "# import joblib\n",
    "# model = joblib.load(path)\n",
    "# # You can now use it to make predictions\n",
    "# y_pred = model.predict(X_test)\n"
   ]
  }
 ],
 "metadata": {
  "kernelspec": {
   "display_name": "venv1",
   "language": "python",
   "name": "python3"
  },
  "language_info": {
   "codemirror_mode": {
    "name": "ipython",
    "version": 3
   },
   "file_extension": ".py",
   "mimetype": "text/x-python",
   "name": "python",
   "nbconvert_exporter": "python",
   "pygments_lexer": "ipython3",
   "version": "3.12.3"
  }
 },
 "nbformat": 4,
 "nbformat_minor": 5
}
